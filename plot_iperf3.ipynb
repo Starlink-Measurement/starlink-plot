{
 "cells": [
  {
   "cell_type": "code",
   "execution_count": null,
   "id": "b2422456-2823-444d-84a0-6cdf58c0facd",
   "metadata": {},
   "outputs": [],
   "source": [
    "%pip install pandas matplotlib scipy seaborn"
   ]
  },
  {
   "cell_type": "code",
   "execution_count": null,
   "id": "2c238957-3363-441c-9783-f7a207b6b495",
   "metadata": {},
   "outputs": [],
   "source": [
    "import os\n",
    "import argparse\n",
    "import pandas as pd\n",
    "import matplotlib\n",
    "import matplotlib.pyplot as plt\n",
    "import matplotlib.dates as md\n",
    "import numpy as np\n",
    "import seaborn as sns\n",
    "import glob\n",
    "from scipy import stats\n",
    "from dateutil import tz"
   ]
  },
  {
   "cell_type": "code",
   "execution_count": null,
   "id": "637dc779-296f-46f2-8e79-9fbb266d53b1",
   "metadata": {},
   "outputs": [],
   "source": [
    "from common import combine_csvs"
   ]
  },
  {
   "cell_type": "code",
   "execution_count": null,
   "id": "2f835d24-66a5-4d3c-924e-31bc27f5a9cd",
   "metadata": {},
   "outputs": [],
   "source": [
    "MEGAb_TO_b = 1e6\n",
    "TCP_DOWN = \"*down.*.csv\"\n",
    "UDP_DOWN = \"*down*udp*.csv\"\n",
    "TCP_UP = \"*receive.*[!p].csv\"\n",
    "UDP_UP = \"*receive*.udp.csv\"\n",
    "TEMP='Temp (°C)'\n",
    "PRECIP='Precip. Amount (mm)'\n",
    "\n",
    "JITTER = 'jitter_ms'\n",
    "BANDWIDTH = 'bandwidth'"
   ]
  },
  {
   "cell_type": "code",
   "execution_count": null,
   "id": "ab1cf058-8740-4d94-a6c6-df3030ea36cf",
   "metadata": {},
   "outputs": [],
   "source": [
    "#matplotlib.use(\"pgf\")\n",
    "matplotlib.rcParams.update({\n",
    "    \"pgf.texsystem\": \"pdflatex\",\n",
    "    'font.family': 'serif',\n",
    "    'text.usetex': True,\n",
    "    'pgf.rcfonts': False,\n",
    "})\n",
    "sns.set_context(\"paper\", rc={\"font.size\":9,\"axes.titlesize\":9,\"axes.labelsize\":8, \"xtick.labelsize\":8})"
   ]
  },
  {
   "cell_type": "code",
   "execution_count": null,
   "id": "95e142b1-72dd-46be-927f-d5a902e99be3",
   "metadata": {},
   "outputs": [],
   "source": [
    "def convert_to_mb(df):\n",
    "    # Converts to Megabits per second\n",
    "    df.bits_per_second /= MEGAb_TO_b\n",
    "    df.rename(columns={'bits_per_second': 'bandwidth'}, inplace=True)"
   ]
  },
  {
   "cell_type": "code",
   "execution_count": null,
   "id": "7db1a752-b77b-4b07-a3fa-8fd6db1ec869",
   "metadata": {
    "lines_to_next_cell": 1
   },
   "outputs": [],
   "source": [
    "def concat_df(src, pattern, keep=['bandwidth']):\n",
    "    combined_df = combine_csvs(glob.glob(f\"{src}/**/{pattern}\", recursive=True))\n",
    "    \n",
    "    combined_df.index = pd.to_datetime(combined_df.index, unit='s')\n",
    "    convert_to_mb(combined_df)\n",
    "    combined_df = combined_df[keep]\n",
    "    return combined_df"
   ]
  },
  {
   "cell_type": "code",
   "execution_count": null,
   "id": "c85a87ba-a8e3-40eb-8333-9f123036f33a",
   "metadata": {
    "lines_to_next_cell": 1
   },
   "outputs": [],
   "source": [
    "def plot_time(args):\n",
    "    from scipy.signal import savgol_filter\n",
    "\n",
    "    #df = concat_df(args.src_folder, UDP_UP, [JITTER])\n",
    "    df = combine_reg(args.src_folder, UDP_UP, first=4)\n",
    "    df_unstacked = df.unstack().dropna()\n",
    "    df_unstacked = df_unstacked.mask(df_unstacked == -1).reset_index(name=BANDWIDTH).set_index('timestamp')\n",
    "    df_regs = df.replace(-1, pd.NA)\n",
    "    df_regs = df_regs.dropna(how='all').astype(float)\n",
    "    #df = concat_df(args.src_folder, UDP_DOWN).sort_values('timestamp')\n",
    "    df_regs = df_regs.loc['2022-05-28 18:13:00':]\n",
    "    #df = df.loc['2022-03-01 04:07:30':'2022-03-01 04:08:40']\n",
    "    #df = df.loc['2022-03-01':'2022-03-02']\n",
    "\n",
    "    print(df_regs)\n",
    "\n",
    "    # Aggreagation options\n",
    "    df_regs_interp = df_regs.resample('2T').mean()\n",
    "    df_regs_interp = df_regs_interp.interpolate(method='linear')\n",
    "    df_regs_interp = df_regs_interp.apply(lambda x: savgol_filter(x,41,1))\n",
    "    # Perform savgol filtering\n",
    "    print(df_regs.head())\n",
    "\n",
    "    #df.to_csv(\"out.csv\", encoding='utf-8-sig')\n",
    "\n",
    "    print(df_unstacked.shape[0])\n",
    "\n",
    "    #fig, ax = plt.subplots(figsize=(3.5,3))\n",
    "    fig, ax = plt.subplots(figsize=(20,10))\n",
    "\n",
    "    ax.xaxis.update_units(df.index)\n",
    "    y_val = df_unstacked.bandwidth\n",
    "    #sns.scatterplot(x=ax.xaxis.convert_units(df.timestamp), y=y_val, ax=ax)\n",
    "    #sns.jointplot(x=ax.xaxis.convert_units(df.timestamp), y=y_val, ax=ax)\n",
    "\n",
    "    #sns.lineplot(x=ax.xaxis.convert_units(df.index), y=y_val, ax=ax, hue=y_val.isna().cumsum(),\n",
    "    #        palette=[\"black\"]*sum(y_val.isna()), markers=True, legend=False)\n",
    "    #sns.lineplot(data=df_regs)\n",
    "    sns.lineplot(data=df_regs_interp)\n",
    "    #ax.set(yscale='log')\n",
    "    for label in ax.get_xticklabels():\n",
    "        label.set_rotation(45)\n",
    "        label.set_ha('right')\n",
    "\n",
    "    #ax.set_ylabel(\"Jitter (ms)\")\n",
    "    ax.set_ylabel(\"Bandwidth (Mb/s)\")\n",
    "    if args.name:\n",
    "        ax.set_title(args.name)\n",
    "\n",
    "    fig2, ax2 = plt.subplots(figsize=(20,10))\n",
    "    sns.ecdfplot(data=df_regs)\n",
    "\n",
    "    plt.tight_layout()\n",
    "    plt.savefig(f'{args.filename}.eps', format='eps', bbox_inches='tight')\n",
    "    plt.show()"
   ]
  }
 ],
 "metadata": {
  "kernelspec": {
   "display_name": "Python 3 (ipykernel)",
   "language": "python",
   "name": "python3"
  },
  "language_info": {
   "codemirror_mode": {
    "name": "ipython",
    "version": 3
   },
   "file_extension": ".py",
   "mimetype": "text/x-python",
   "name": "python",
   "nbconvert_exporter": "python",
   "pygments_lexer": "ipython3",
   "version": "3.8.10"
  }
 },
 "nbformat": 4,
 "nbformat_minor": 5
}
