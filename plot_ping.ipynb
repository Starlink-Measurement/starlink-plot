{
 "cells": [
  {
   "cell_type": "code",
   "execution_count": 2,
   "id": "d54d0356",
   "metadata": {},
   "outputs": [],
   "source": [
    "import os\n",
    "import argparse\n",
    "import pandas as pd\n",
    "import matplotlib\n",
    "import matplotlib.pyplot as plt\n",
    "import matplotlib.dates as md\n",
    "import numpy as np\n",
    "import seaborn as sns\n",
    "import glob\n",
    "from scipy import stats\n",
    "from dateutil import tz"
   ]
  },
  {
   "cell_type": "code",
   "execution_count": 3,
   "id": "392febaa",
   "metadata": {},
   "outputs": [],
   "source": [
    "N_STARLINK = 'Starlink'\n",
    "N_SHAW = 'Shaw'"
   ]
  },
  {
   "cell_type": "code",
   "execution_count": null,
   "id": "f7ad6da3",
   "metadata": {},
   "outputs": [],
   "source": [
    "src_dirs = "
   ]
  },
  {
   "cell_type": "code",
   "execution_count": 4,
   "id": "7887d6a0",
   "metadata": {},
   "outputs": [
    {
     "ename": "NameError",
     "evalue": "name 'args' is not defined",
     "output_type": "error",
     "traceback": [
      "\u001b[0;31m---------------------------------------------------------------------------\u001b[0m",
      "\u001b[0;31mNameError\u001b[0m                                 Traceback (most recent call last)",
      "Input \u001b[0;32mIn [4]\u001b[0m, in \u001b[0;36m<cell line: 2>\u001b[0;34m()\u001b[0m\n\u001b[1;32m      1\u001b[0m df \u001b[38;5;241m=\u001b[39m pd\u001b[38;5;241m.\u001b[39mDataFrame()\n\u001b[0;32m----> 2\u001b[0m \u001b[38;5;28;01mfor\u001b[39;00m folder \u001b[38;5;129;01min\u001b[39;00m \u001b[43margs\u001b[49m\u001b[38;5;241m.\u001b[39msrc_dirs:\n\u001b[1;32m      3\u001b[0m     \u001b[38;5;28;01mfor\u001b[39;00m region \u001b[38;5;129;01min\u001b[39;00m os\u001b[38;5;241m.\u001b[39mscandir(folder):\n\u001b[1;32m      4\u001b[0m         pattern \u001b[38;5;241m=\u001b[39m \u001b[38;5;124mf\u001b[39m\u001b[38;5;124m\"\u001b[39m\u001b[38;5;132;01m{\u001b[39;00mregion\u001b[38;5;241m.\u001b[39mpath\u001b[38;5;132;01m}\u001b[39;00m\u001b[38;5;124m/*\u001b[39m\u001b[38;5;124m\"\u001b[39m\n",
      "\u001b[0;31mNameError\u001b[0m: name 'args' is not defined"
     ]
    }
   ],
   "source": [
    "df = pd.DataFrame()\n",
    "for folder in args.src_dirs:\n",
    "    for region in os.scandir(folder):\n",
    "        pattern = f\"{region.path}/*\"\n",
    "        print(pattern)\n",
    "        df_temp = combine_csvs(glob.glob(pattern, recursive=True), 3)\n",
    "        df_temp.index = pd.to_datetime(df_temp.index, unit='s')\n",
    "        df_temp = df_temp.iloc[:,[2]]\n",
    "        df_temp.rename(columns={df_temp.columns[0]: f\"{folder}_{region.name}\"}, inplace=True)\n",
    "\n",
    "        df = df.merge(df_temp, how='outer', left_index=True, right_index=True)\n",
    "\n",
    "print(df.shape[0])\n",
    "num_regs = int(len(df.columns) / 2) # One for each of Shaw vs Starlink\n",
    "print(num_regs)\n",
    "cols = df.columns.tolist()\n",
    "\n",
    "print(df.head())\n",
    "new_cols = []\n",
    "for col in cols:\n",
    "    region = os.path.basename(col).replace('_',' ').strip()\n",
    "    new_cols.append(region)\n",
    "\n",
    "#regions = ['Mumbai', 'Sydney', 'Singapore', \n",
    "#        'N. California', 'London', 'Bahrain', 'Sao Paulo', 'Tokyo', 'Africa']\n",
    "\n",
    "multi_cols = [\n",
    "        [N_SHAW] * num_regs + [N_STARLINK] * num_regs,\n",
    "        new_cols\n",
    "        ]\n",
    "df.set_axis(multi_cols, axis=1, inplace=True)"
   ]
  },
  {
   "cell_type": "code",
   "execution_count": null,
   "id": "767b0b13",
   "metadata": {},
   "outputs": [],
   "source": [
    "# Filter\n",
    "print(df.shape)\n",
    "df = df.resample('H').mean()\n",
    "df_regs_interp = df_regs_interp.interpolate(method='linear')\n",
    "df_regs_interp = df_regs_interp.apply(lambda x: savgol_filter(x,41,1))\n",
    "print(df)\n",
    "print(df.shape)\n",
    "\n",
    "#df = df.loc['2022-06-01 08':'2022-06-01 09']\n",
    "print(df.shape)\n",
    "\n",
    "df_unstacked = df.unstack().reset_index(name='latency')\n",
    "print(df_unstacked)"
   ]
  },
  {
   "cell_type": "code",
   "execution_count": null,
   "id": "67033b33",
   "metadata": {},
   "outputs": [],
   "source": [
    "N_REGIONS = 'Regions'\n",
    "df_unstacked.dropna(inplace=True)\n",
    "df_unstacked.rename(columns={'level_0': 'type', 'level_1': N_REGIONS, 'level_2': 'timestamp'},\n",
    "        inplace=True)\n",
    "#print(df_unstacked.head())\n",
    "\n",
    "#df_pivot = df_unstacked.pivot_table(index=[N_REGIONS, 'timestamp'], columns='type', values='latency')\n",
    "#print(df_pivot.head())\n",
    "\n",
    "g = sns.catplot(data=df_unstacked, x='type', y='latency', col=N_REGIONS, col_wrap=4, kind='box', height=2,\n",
    "        aspect=0.895, showfliers=True)\n",
    "g.set(yscale='log')\n",
    "g.tight_layout()\n",
    "(g.set_axis_labels('Provider', 'Latency (ms)')\n",
    "        .set_titles(\"{col_name}\"))"
   ]
  },
  {
   "cell_type": "code",
   "execution_count": null,
   "id": "d849a7a3",
   "metadata": {},
   "outputs": [],
   "source": [
    "#fig, ax = plt.subplots(figsize=(3.5,2))\n",
    "fig, ax = plt.subplots(figsize=(20,10))\n",
    "ax.xaxis.update_units(df.index)\n",
    "sns.lineplot(data=df_unstacked, x=\"level_2\", y=\"latency\", hue=\"level_1\", style=\"level_0\")\n",
    "\n",
    "for label in ax.get_xticklabels():\n",
    "    label.set_rotation(45)\n",
    "    label.set_ha('right')\n",
    "ax.set_ylabel('Latency (ms)')"
   ]
  },
  {
   "cell_type": "code",
   "execution_count": null,
   "id": "e84b80b8",
   "metadata": {},
   "outputs": [],
   "source": [
    "########\n",
    "#fig, axs = plt.subplots(1, num_regs, figsize=(7.16,5))\n",
    "#ax_big = fig.add_subplot(111, frameon=False)\n",
    "\n",
    "#df_regions = []\n",
    "#for i in range(num_regs):\n",
    "#    df_region = df.iloc[:,[i,(num_regs+i)]]\n",
    "#    boxplt = sns.boxplot(x=\"variable\", y=\"value\", data=pd.melt(df_region), ax=axs[i], showfliers=False)\n",
    "\n",
    "#    raw_region = df_region.columns[0]\n",
    "#    region = raw_region.split('/')[1].replace('_',' ').strip()\n",
    "#    boxplt.set(xlabel=region, ylabel=None)\n",
    "\n",
    "#    #axs[i].set(yscale='log')\n",
    "#    axs[i].set_xticklabels(labels=[\"Shaw\", \"Starlink\"], fontsize=9)\n",
    "#    axs[i].tick_params(labelsize=9)\n",
    "\n",
    "\n",
    "#ax_big.set_xlabel(\"Network Provider and Region\", fontsize=10, labelpad=30, fontweight='bold')\n",
    "#ax_big.set_ylabel(\"Latency (ms)\", fontsize=10, labelpad=30, fontweight='bold')\n",
    "#ax_big.set_yticklabels([])\n",
    "#ax_big.set_xticklabels([])\n",
    "#ax_big.tick_params(\n",
    "#    which='both',\n",
    "#    bottom=False,\n",
    "#    left=False,\n",
    "#    right=False,\n",
    "#    top=False)\n",
    "#ax_big.grid(False)\n",
    "#############"
   ]
  },
  {
   "cell_type": "code",
   "execution_count": null,
   "id": "cbad6c2f",
   "metadata": {},
   "outputs": [],
   "source": [
    "plt.savefig(f'{args.filename}.pgf', bbox_inches='tight')\n",
    "plt.show()"
   ]
  }
 ],
 "metadata": {
  "kernelspec": {
   "display_name": "Python 3 (ipykernel)",
   "language": "python",
   "name": "python3"
  },
  "language_info": {
   "codemirror_mode": {
    "name": "ipython",
    "version": 3
   },
   "file_extension": ".py",
   "mimetype": "text/x-python",
   "name": "python",
   "nbconvert_exporter": "python",
   "pygments_lexer": "ipython3",
   "version": "3.8.10"
  }
 },
 "nbformat": 4,
 "nbformat_minor": 5
}
